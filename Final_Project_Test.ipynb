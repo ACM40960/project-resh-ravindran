{
 "cells": [
  {
   "cell_type": "markdown",
   "id": "5db16ff8",
   "metadata": {},
   "source": [
    "# AI Image Recognition of Sign Language and Sentiment Analysis using NLP"
   ]
  },
  {
   "cell_type": "markdown",
   "id": "dc4d9141",
   "metadata": {},
   "source": [
    "For persons who have hearing loss and trouble communicating, **Sign language** is vital. We employ this project to figure out what they're trying to convey. In this work we will classify images of static letter hand posture using **Neural Networks** and thereby using a **Text Classification Model** to analyse the emotions of handicapped people."
   ]
  },
  {
   "cell_type": "markdown",
   "id": "bc1b59b4",
   "metadata": {},
   "source": [
    "#### Importing the required libraries"
   ]
  },
  {
   "cell_type": "code",
   "execution_count": 1,
   "id": "0e014300",
   "metadata": {},
   "outputs": [
    {
     "name": "stdout",
     "output_type": "stream",
     "text": [
      "Requirement already satisfied: pip in /Users/kakiyeswanth/opt/anaconda3/lib/python3.8/site-packages (22.2.1)\n",
      "Requirement already satisfied: transformers in /Users/kakiyeswanth/.local/lib/python3.8/site-packages (4.20.1)\n",
      "Requirement already satisfied: requests in /Users/kakiyeswanth/opt/anaconda3/lib/python3.8/site-packages (from transformers) (2.25.1)\n",
      "Requirement already satisfied: numpy>=1.17 in /Users/kakiyeswanth/opt/anaconda3/lib/python3.8/site-packages (from transformers) (1.20.1)\n",
      "Requirement already satisfied: pyyaml>=5.1 in /Users/kakiyeswanth/opt/anaconda3/lib/python3.8/site-packages (from transformers) (5.4.1)\n",
      "Requirement already satisfied: packaging>=20.0 in /Users/kakiyeswanth/opt/anaconda3/lib/python3.8/site-packages (from transformers) (20.9)\n",
      "Requirement already satisfied: tokenizers!=0.11.3,<0.13,>=0.11.1 in /Users/kakiyeswanth/.local/lib/python3.8/site-packages (from transformers) (0.12.1)\n",
      "Requirement already satisfied: regex!=2019.12.17 in /Users/kakiyeswanth/opt/anaconda3/lib/python3.8/site-packages (from transformers) (2021.4.4)\n",
      "Requirement already satisfied: huggingface-hub<1.0,>=0.1.0 in /Users/kakiyeswanth/.local/lib/python3.8/site-packages (from transformers) (0.8.1)\n",
      "Requirement already satisfied: filelock in /Users/kakiyeswanth/opt/anaconda3/lib/python3.8/site-packages (from transformers) (3.0.12)\n",
      "Requirement already satisfied: tqdm>=4.27 in /Users/kakiyeswanth/opt/anaconda3/lib/python3.8/site-packages (from transformers) (4.59.0)\n",
      "Requirement already satisfied: typing-extensions>=3.7.4.3 in /Users/kakiyeswanth/opt/anaconda3/lib/python3.8/site-packages (from huggingface-hub<1.0,>=0.1.0->transformers) (3.7.4.3)\n",
      "Requirement already satisfied: pyparsing>=2.0.2 in /Users/kakiyeswanth/opt/anaconda3/lib/python3.8/site-packages (from packaging>=20.0->transformers) (2.4.7)\n",
      "Requirement already satisfied: certifi>=2017.4.17 in /Users/kakiyeswanth/opt/anaconda3/lib/python3.8/site-packages (from requests->transformers) (2020.12.5)\n",
      "Requirement already satisfied: urllib3<1.27,>=1.21.1 in /Users/kakiyeswanth/opt/anaconda3/lib/python3.8/site-packages (from requests->transformers) (1.26.4)\n",
      "Requirement already satisfied: chardet<5,>=3.0.2 in /Users/kakiyeswanth/opt/anaconda3/lib/python3.8/site-packages (from requests->transformers) (4.0.0)\n",
      "Requirement already satisfied: idna<3,>=2.5 in /Users/kakiyeswanth/opt/anaconda3/lib/python3.8/site-packages (from requests->transformers) (2.10)\n",
      "Requirement already satisfied: tensorflow in /Users/kakiyeswanth/opt/anaconda3/lib/python3.8/site-packages (2.9.1)\n",
      "Requirement already satisfied: protobuf<3.20,>=3.9.2 in /Users/kakiyeswanth/opt/anaconda3/lib/python3.8/site-packages (from tensorflow) (3.19.4)\n",
      "Requirement already satisfied: gast<=0.4.0,>=0.2.1 in /Users/kakiyeswanth/opt/anaconda3/lib/python3.8/site-packages (from tensorflow) (0.4.0)\n",
      "Requirement already satisfied: flatbuffers<2,>=1.12 in /Users/kakiyeswanth/opt/anaconda3/lib/python3.8/site-packages (from tensorflow) (1.12)\n",
      "Requirement already satisfied: typing-extensions>=3.6.6 in /Users/kakiyeswanth/opt/anaconda3/lib/python3.8/site-packages (from tensorflow) (3.7.4.3)\n",
      "Requirement already satisfied: absl-py>=1.0.0 in /Users/kakiyeswanth/opt/anaconda3/lib/python3.8/site-packages (from tensorflow) (1.1.0)\n",
      "Requirement already satisfied: google-pasta>=0.1.1 in /Users/kakiyeswanth/opt/anaconda3/lib/python3.8/site-packages (from tensorflow) (0.2.0)\n",
      "Requirement already satisfied: numpy>=1.20 in /Users/kakiyeswanth/opt/anaconda3/lib/python3.8/site-packages (from tensorflow) (1.20.1)\n",
      "Requirement already satisfied: setuptools in /Users/kakiyeswanth/opt/anaconda3/lib/python3.8/site-packages (from tensorflow) (52.0.0.post20210125)\n",
      "Requirement already satisfied: libclang>=13.0.0 in /Users/kakiyeswanth/opt/anaconda3/lib/python3.8/site-packages (from tensorflow) (14.0.1)\n",
      "Requirement already satisfied: wrapt>=1.11.0 in /Users/kakiyeswanth/opt/anaconda3/lib/python3.8/site-packages (from tensorflow) (1.12.1)\n",
      "Requirement already satisfied: opt-einsum>=2.3.2 in /Users/kakiyeswanth/opt/anaconda3/lib/python3.8/site-packages (from tensorflow) (3.3.0)\n",
      "Requirement already satisfied: keras<2.10.0,>=2.9.0rc0 in /Users/kakiyeswanth/opt/anaconda3/lib/python3.8/site-packages (from tensorflow) (2.9.0)\n",
      "Requirement already satisfied: astunparse>=1.6.0 in /Users/kakiyeswanth/opt/anaconda3/lib/python3.8/site-packages (from tensorflow) (1.6.3)\n",
      "Requirement already satisfied: packaging in /Users/kakiyeswanth/opt/anaconda3/lib/python3.8/site-packages (from tensorflow) (20.9)\n",
      "Requirement already satisfied: tensorflow-io-gcs-filesystem>=0.23.1 in /Users/kakiyeswanth/opt/anaconda3/lib/python3.8/site-packages (from tensorflow) (0.26.0)\n",
      "Requirement already satisfied: tensorboard<2.10,>=2.9 in /Users/kakiyeswanth/opt/anaconda3/lib/python3.8/site-packages (from tensorflow) (2.9.1)\n",
      "Requirement already satisfied: h5py>=2.9.0 in /Users/kakiyeswanth/opt/anaconda3/lib/python3.8/site-packages (from tensorflow) (2.10.0)\n",
      "Requirement already satisfied: grpcio<2.0,>=1.24.3 in /Users/kakiyeswanth/opt/anaconda3/lib/python3.8/site-packages (from tensorflow) (1.47.0)\n",
      "Requirement already satisfied: keras-preprocessing>=1.1.1 in /Users/kakiyeswanth/opt/anaconda3/lib/python3.8/site-packages (from tensorflow) (1.1.2)\n",
      "Requirement already satisfied: termcolor>=1.1.0 in /Users/kakiyeswanth/opt/anaconda3/lib/python3.8/site-packages (from tensorflow) (1.1.0)\n",
      "Requirement already satisfied: six>=1.12.0 in /Users/kakiyeswanth/opt/anaconda3/lib/python3.8/site-packages (from tensorflow) (1.15.0)\n",
      "Requirement already satisfied: tensorflow-estimator<2.10.0,>=2.9.0rc0 in /Users/kakiyeswanth/opt/anaconda3/lib/python3.8/site-packages (from tensorflow) (2.9.0)\n",
      "Requirement already satisfied: wheel<1.0,>=0.23.0 in /Users/kakiyeswanth/opt/anaconda3/lib/python3.8/site-packages (from astunparse>=1.6.0->tensorflow) (0.36.2)\n",
      "Requirement already satisfied: markdown>=2.6.8 in /Users/kakiyeswanth/opt/anaconda3/lib/python3.8/site-packages (from tensorboard<2.10,>=2.9->tensorflow) (3.3.7)\n",
      "Requirement already satisfied: google-auth-oauthlib<0.5,>=0.4.1 in /Users/kakiyeswanth/opt/anaconda3/lib/python3.8/site-packages (from tensorboard<2.10,>=2.9->tensorflow) (0.4.6)\n",
      "Requirement already satisfied: tensorboard-plugin-wit>=1.6.0 in /Users/kakiyeswanth/opt/anaconda3/lib/python3.8/site-packages (from tensorboard<2.10,>=2.9->tensorflow) (1.8.1)\n",
      "Requirement already satisfied: tensorboard-data-server<0.7.0,>=0.6.0 in /Users/kakiyeswanth/opt/anaconda3/lib/python3.8/site-packages (from tensorboard<2.10,>=2.9->tensorflow) (0.6.1)\n",
      "Requirement already satisfied: werkzeug>=1.0.1 in /Users/kakiyeswanth/opt/anaconda3/lib/python3.8/site-packages (from tensorboard<2.10,>=2.9->tensorflow) (1.0.1)\n",
      "Requirement already satisfied: requests<3,>=2.21.0 in /Users/kakiyeswanth/opt/anaconda3/lib/python3.8/site-packages (from tensorboard<2.10,>=2.9->tensorflow) (2.25.1)\n",
      "Requirement already satisfied: google-auth<3,>=1.6.3 in /Users/kakiyeswanth/opt/anaconda3/lib/python3.8/site-packages (from tensorboard<2.10,>=2.9->tensorflow) (2.9.0)\n",
      "Requirement already satisfied: pyparsing>=2.0.2 in /Users/kakiyeswanth/opt/anaconda3/lib/python3.8/site-packages (from packaging->tensorflow) (2.4.7)\n",
      "Requirement already satisfied: rsa<5,>=3.1.4 in /Users/kakiyeswanth/opt/anaconda3/lib/python3.8/site-packages (from google-auth<3,>=1.6.3->tensorboard<2.10,>=2.9->tensorflow) (4.8)\n",
      "Requirement already satisfied: pyasn1-modules>=0.2.1 in /Users/kakiyeswanth/opt/anaconda3/lib/python3.8/site-packages (from google-auth<3,>=1.6.3->tensorboard<2.10,>=2.9->tensorflow) (0.2.8)\n",
      "Requirement already satisfied: cachetools<6.0,>=2.0.0 in /Users/kakiyeswanth/opt/anaconda3/lib/python3.8/site-packages (from google-auth<3,>=1.6.3->tensorboard<2.10,>=2.9->tensorflow) (5.2.0)\n",
      "Requirement already satisfied: requests-oauthlib>=0.7.0 in /Users/kakiyeswanth/opt/anaconda3/lib/python3.8/site-packages (from google-auth-oauthlib<0.5,>=0.4.1->tensorboard<2.10,>=2.9->tensorflow) (1.3.1)\n",
      "Requirement already satisfied: importlib-metadata>=4.4 in /Users/kakiyeswanth/opt/anaconda3/lib/python3.8/site-packages (from markdown>=2.6.8->tensorboard<2.10,>=2.9->tensorflow) (4.12.0)\n",
      "Requirement already satisfied: certifi>=2017.4.17 in /Users/kakiyeswanth/opt/anaconda3/lib/python3.8/site-packages (from requests<3,>=2.21.0->tensorboard<2.10,>=2.9->tensorflow) (2020.12.5)\n",
      "Requirement already satisfied: chardet<5,>=3.0.2 in /Users/kakiyeswanth/opt/anaconda3/lib/python3.8/site-packages (from requests<3,>=2.21.0->tensorboard<2.10,>=2.9->tensorflow) (4.0.0)\n",
      "Requirement already satisfied: idna<3,>=2.5 in /Users/kakiyeswanth/opt/anaconda3/lib/python3.8/site-packages (from requests<3,>=2.21.0->tensorboard<2.10,>=2.9->tensorflow) (2.10)\n",
      "Requirement already satisfied: urllib3<1.27,>=1.21.1 in /Users/kakiyeswanth/opt/anaconda3/lib/python3.8/site-packages (from requests<3,>=2.21.0->tensorboard<2.10,>=2.9->tensorflow) (1.26.4)\n"
     ]
    },
    {
     "name": "stdout",
     "output_type": "stream",
     "text": [
      "Requirement already satisfied: zipp>=0.5 in /Users/kakiyeswanth/opt/anaconda3/lib/python3.8/site-packages (from importlib-metadata>=4.4->markdown>=2.6.8->tensorboard<2.10,>=2.9->tensorflow) (3.4.1)\r\n",
      "Requirement already satisfied: pyasn1<0.5.0,>=0.4.6 in /Users/kakiyeswanth/opt/anaconda3/lib/python3.8/site-packages (from pyasn1-modules>=0.2.1->google-auth<3,>=1.6.3->tensorboard<2.10,>=2.9->tensorflow) (0.4.8)\r\n",
      "Requirement already satisfied: oauthlib>=3.0.0 in /Users/kakiyeswanth/opt/anaconda3/lib/python3.8/site-packages (from requests-oauthlib>=0.7.0->google-auth-oauthlib<0.5,>=0.4.1->tensorboard<2.10,>=2.9->tensorflow) (3.2.0)\r\n"
     ]
    }
   ],
   "source": [
    "import numpy as np # linear algebra\n",
    "import os\n",
    "\n",
    "import glob\n",
    "\n",
    "from pathlib import Path\n",
    "import pandas as pd\n",
    "\n",
    "from tensorflow import keras\n",
    "from keras.models import load_model\n",
    "from tensorflow.keras.applications.resnet50 import preprocess_input, decode_predictions\n",
    "import pickle\n",
    "from PIL import Image\n",
    "\n",
    "!pip install --upgrade pip\n",
    "!pip install transformers --user\n",
    "from transformers import BertTokenizer, TFBertModel\n",
    "!pip install --upgrade tensorflow"
   ]
  },
  {
   "cell_type": "markdown",
   "id": "8412a1ff",
   "metadata": {},
   "source": [
    "#### Testing Sign Language Model"
   ]
  },
  {
   "cell_type": "code",
   "execution_count": 2,
   "id": "74783708",
   "metadata": {},
   "outputs": [],
   "source": [
    "# Creating a series of alphabets from a-z\n",
    "letters = np.array(['a', 'b', 'c','d', 'e', 'f','g','h','i','j','k','l','m','n','o','p','q','r','s','t','u','v','w','x','y','z'])\n",
    "counts = pd.Series(letters)"
   ]
  },
  {
   "cell_type": "code",
   "execution_count": 3,
   "id": "5ec3618a",
   "metadata": {},
   "outputs": [],
   "source": [
    "# Loading the saved trained Sign Language Predictor Model\n",
    "sign_model = load_model('SignLanguagePredictor.h5')"
   ]
  },
  {
   "cell_type": "code",
   "execution_count": 28,
   "id": "d8e1e4e5",
   "metadata": {},
   "outputs": [],
   "source": [
    "# Reading the images in a sequence\n",
    "resized_images = []\n",
    "for filename in sorted(glob.glob(os. getcwd() + \"/project_test/worry_test/*.jpg\")):\n",
    "    img = Image.open(filename)\n",
    "    # resizing the shape of image\n",
    "    image = img.resize((224,224))\n",
    "    resized_images.append(image)"
   ]
  },
  {
   "cell_type": "code",
   "execution_count": 29,
   "id": "dc4ada7e",
   "metadata": {},
   "outputs": [
    {
     "name": "stdout",
     "output_type": "stream",
     "text": [
      "1/1 [==============================] - 0s 41ms/step\n",
      "1/1 [==============================] - 0s 37ms/step\n",
      "1/1 [==============================] - 0s 37ms/step\n",
      "1/1 [==============================] - 0s 36ms/step\n",
      "1/1 [==============================] - 0s 35ms/step\n",
      "worry\n"
     ]
    }
   ],
   "source": [
    "res = \"\"\n",
    "for i in resized_images:\n",
    "    img_batch = np.expand_dims(i, axis=0)\n",
    "    img_preprocessed = preprocess_input(img_batch)\n",
    "    # predicting the letter using the model\n",
    "    prediction = sign_model.predict(img_preprocessed)\n",
    "    # concatenating each letter to a empty String\n",
    "    res = res + counts[np.argmax(prediction)]\n",
    "print(res)"
   ]
  },
  {
   "cell_type": "markdown",
   "id": "a0217a4d",
   "metadata": {},
   "source": [
    "#### Testing Model for Emotion Detection"
   ]
  },
  {
   "cell_type": "code",
   "execution_count": 6,
   "id": "c69ab769",
   "metadata": {},
   "outputs": [
    {
     "name": "stdout",
     "output_type": "stream",
     "text": [
      "WARNING:tensorflow:Error in loading the saved optimizer state. As a result, your model is starting with a freshly initialized optimizer.\n"
     ]
    }
   ],
   "source": [
    "# Loading the saved trained Emotion Predictor Model\n",
    "emotion_model = load_model('EmotionPredictor.h5',custom_objects={'TFBertModel': TFBertModel})"
   ]
  },
  {
   "cell_type": "code",
   "execution_count": 7,
   "id": "4df1e9dc",
   "metadata": {},
   "outputs": [
    {
     "name": "stderr",
     "output_type": "stream",
     "text": [
      "Some layers from the model checkpoint at bert-base-cased were not used when initializing TFBertModel: ['mlm___cls', 'nsp___cls']\n",
      "- This IS expected if you are initializing TFBertModel from the checkpoint of a model trained on another task or with another architecture (e.g. initializing a BertForSequenceClassification model from a BertForPreTraining model).\n",
      "- This IS NOT expected if you are initializing TFBertModel from the checkpoint of a model that you expect to be exactly identical (initializing a BertForSequenceClassification model from a BertForSequenceClassification model).\n",
      "All the layers of TFBertModel were initialized from the model checkpoint at bert-base-cased.\n",
      "If your task is similar to the task the model of the checkpoint was trained on, you can already use TFBertModel for predictions without further training.\n"
     ]
    }
   ],
   "source": [
    "tokenizer = BertTokenizer.from_pretrained('bert-base-cased')\n",
    "bert = TFBertModel.from_pretrained('bert-base-cased')"
   ]
  },
  {
   "cell_type": "code",
   "execution_count": 30,
   "id": "d9cd1a5b",
   "metadata": {},
   "outputs": [],
   "source": [
    "# Tokenizing the result text\n",
    "x_test = tokenizer(text = [res],\n",
    "                  padding='max_length',\n",
    "                    truncation=True,\n",
    "                    max_length=130,\n",
    "                    return_tensors=\"tf\")"
   ]
  },
  {
   "cell_type": "code",
   "execution_count": 10,
   "id": "dc87d8d8",
   "metadata": {},
   "outputs": [],
   "source": [
    "# Creating a dictionary of Emotions\n",
    "dic = {'anger':0,'fear':1,'joy':2,'love':3,'sadness':4,'suprise':5}\n",
    "dic1 = list(dic.keys())"
   ]
  },
  {
   "cell_type": "code",
   "execution_count": 31,
   "id": "f35ffd7e",
   "metadata": {},
   "outputs": [
    {
     "name": "stdout",
     "output_type": "stream",
     "text": [
      "1/1 [==============================] - 0s 222ms/step\n"
     ]
    }
   ],
   "source": [
    "# Predicting the emotion from the model\n",
    "predicted_raw = emotion_model.predict({'input_ids':x_test['input_ids'], 'attention_mask':x_test['attention_mask']})"
   ]
  },
  {
   "cell_type": "code",
   "execution_count": 32,
   "id": "01d50853",
   "metadata": {},
   "outputs": [
    {
     "name": "stdout",
     "output_type": "stream",
     "text": [
      "The Emotion detected from the result is fear\n"
     ]
    }
   ],
   "source": [
    "y_predicted = np.argmax(predicted_raw,axis=1)\n",
    "# Printing the emotion\n",
    "print(\"The Emotion detected from the result is \"+dic1[y_predicted[0]])"
   ]
  }
 ],
 "metadata": {
  "kernelspec": {
   "display_name": "Python 3",
   "language": "python",
   "name": "python3"
  },
  "language_info": {
   "codemirror_mode": {
    "name": "ipython",
    "version": 3
   },
   "file_extension": ".py",
   "mimetype": "text/x-python",
   "name": "python",
   "nbconvert_exporter": "python",
   "pygments_lexer": "ipython3",
   "version": "3.8.8"
  }
 },
 "nbformat": 4,
 "nbformat_minor": 5
}
